{
 "cells": [
  {
   "cell_type": "code",
   "execution_count": 32,
   "outputs": [],
   "source": [
    "import pandas as pd"
   ],
   "metadata": {
    "collapsed": false,
    "pycharm": {
     "name": "#%%\n"
    }
   }
  },
  {
   "cell_type": "code",
   "execution_count": 33,
   "outputs": [
    {
     "name": "stderr",
     "output_type": "stream",
     "text": [
      "/tmp/ipykernel_6299/2408279303.py:1: DtypeWarning: Columns (0) have mixed types. Specify dtype option on import or set low_memory=False.\n",
      "  carless_data = pd.read_csv(\"matsim-berlin-run-carless-ring-3_20220701-181409.csv\")\n",
      "/tmp/ipykernel_6299/2408279303.py:2: DtypeWarning: Columns (0) have mixed types. Specify dtype option on import or set low_memory=False.\n",
      "  normal_data = pd.read_csv(\"matsim-berlin-run-2_20220701-184547.csv\")\n"
     ]
    }
   ],
   "source": [
    "carless_data = pd.read_csv(\"matsim-berlin-run-carless-ring-3_20220701-181409.csv\")\n",
    "normal_data = pd.read_csv(\"matsim-berlin-run-2_20220701-184547.csv\")"
   ],
   "metadata": {
    "collapsed": false,
    "pycharm": {
     "name": "#%%\n"
    }
   }
  },
  {
   "cell_type": "code",
   "execution_count": 34,
   "outputs": [
    {
     "data": {
      "text/plain": "                       personId  isAffected primaryLegMode        coordX  \\\n0                     100012001       False           walk  4.628514e+06   \n1                      10001401       False            car  4.602137e+06   \n2                     100041201       False        bicycle  4.627570e+06   \n3                     100048001       False           ride  4.625550e+06   \n4                     100117301       False            car  4.627250e+06   \n...                         ...         ...            ...           ...   \n49300  freight_952_13245-berlin       False        freight  4.574263e+06   \n49301  freight_965_13245-berlin       False        freight  4.574263e+06   \n49302  freight_994_13245-berlin       False        freight  4.574263e+06   \n49303  freight_996_87464-berlin       False        freight  4.603503e+06   \n49304   freight_9_144245-berlin       False        freight  4.574147e+06   \n\n             coordY  travelTimeWalk  travelTimeCar  travelTimeRide  \\\n0      5.831327e+06          5144.0            0.0          1047.0   \n1      5.706357e+06          8800.0         9037.0             0.0   \n2      5.828417e+06             0.0            0.0             0.0   \n3      5.824198e+06          1440.0            0.0          1554.0   \n4      5.827690e+06          3586.0        12150.0             0.0   \n...             ...             ...            ...             ...   \n49300  5.822580e+06            49.0            0.0             0.0   \n49301  5.822580e+06            41.0            0.0             0.0   \n49302  5.822580e+06            71.0            0.0             0.0   \n49303  5.808240e+06            29.0            0.0             0.0   \n49304  5.809461e+06            28.0            0.0             0.0   \n\n       travelTimePt  travelTimeBike  travelTimeFreight  travelDistanceWalk  \\\n0               0.0             0.0                0.0         5431.830593   \n1               0.0             0.0                0.0         9298.707408   \n2               0.0          3134.0                0.0            0.000000   \n3               0.0             0.0                0.0         1521.787790   \n4               0.0             0.0                0.0         3793.147334   \n...             ...             ...                ...                 ...   \n49300           0.0             0.0             5302.0           52.342074   \n49301           0.0             0.0             4017.0           44.240611   \n49302           0.0             0.0             3465.0           75.045153   \n49303           0.0             0.0             2818.0           30.984966   \n49304           0.0             0.0             4058.0           29.882341   \n\n       travelDistanceCar  travelDistanceRide  travelDistancePt  \\\n0               0.000000        19708.765187               0.0   \n1          115174.683489            0.000000               0.0   \n2               0.000000            0.000000               0.0   \n3               0.000000        21164.108496               0.0   \n4          185468.676299            0.000000               0.0   \n...                  ...                 ...               ...   \n49300           0.000000            0.000000               0.0   \n49301           0.000000            0.000000               0.0   \n49302           0.000000            0.000000               0.0   \n49303           0.000000            0.000000               0.0   \n49304           0.000000            0.000000               0.0   \n\n       travelDistanceBike  travelDistanceFreight  \n0                 0.00000               0.000000  \n1                 0.00000               0.000000  \n2              9842.44395               0.000000  \n3                 0.00000               0.000000  \n4                 0.00000               0.000000  \n...                   ...                    ...  \n49300             0.00000           39677.113976  \n49301             0.00000           26866.064931  \n49302             0.00000           24011.041982  \n49303             0.00000           40353.625051  \n49304             0.00000           40837.075402  \n\n[49305 rows x 17 columns]",
      "text/html": "<div>\n<style scoped>\n    .dataframe tbody tr th:only-of-type {\n        vertical-align: middle;\n    }\n\n    .dataframe tbody tr th {\n        vertical-align: top;\n    }\n\n    .dataframe thead th {\n        text-align: right;\n    }\n</style>\n<table border=\"1\" class=\"dataframe\">\n  <thead>\n    <tr style=\"text-align: right;\">\n      <th></th>\n      <th>personId</th>\n      <th>isAffected</th>\n      <th>primaryLegMode</th>\n      <th>coordX</th>\n      <th>coordY</th>\n      <th>travelTimeWalk</th>\n      <th>travelTimeCar</th>\n      <th>travelTimeRide</th>\n      <th>travelTimePt</th>\n      <th>travelTimeBike</th>\n      <th>travelTimeFreight</th>\n      <th>travelDistanceWalk</th>\n      <th>travelDistanceCar</th>\n      <th>travelDistanceRide</th>\n      <th>travelDistancePt</th>\n      <th>travelDistanceBike</th>\n      <th>travelDistanceFreight</th>\n    </tr>\n  </thead>\n  <tbody>\n    <tr>\n      <th>0</th>\n      <td>100012001</td>\n      <td>False</td>\n      <td>walk</td>\n      <td>4.628514e+06</td>\n      <td>5.831327e+06</td>\n      <td>5144.0</td>\n      <td>0.0</td>\n      <td>1047.0</td>\n      <td>0.0</td>\n      <td>0.0</td>\n      <td>0.0</td>\n      <td>5431.830593</td>\n      <td>0.000000</td>\n      <td>19708.765187</td>\n      <td>0.0</td>\n      <td>0.00000</td>\n      <td>0.000000</td>\n    </tr>\n    <tr>\n      <th>1</th>\n      <td>10001401</td>\n      <td>False</td>\n      <td>car</td>\n      <td>4.602137e+06</td>\n      <td>5.706357e+06</td>\n      <td>8800.0</td>\n      <td>9037.0</td>\n      <td>0.0</td>\n      <td>0.0</td>\n      <td>0.0</td>\n      <td>0.0</td>\n      <td>9298.707408</td>\n      <td>115174.683489</td>\n      <td>0.000000</td>\n      <td>0.0</td>\n      <td>0.00000</td>\n      <td>0.000000</td>\n    </tr>\n    <tr>\n      <th>2</th>\n      <td>100041201</td>\n      <td>False</td>\n      <td>bicycle</td>\n      <td>4.627570e+06</td>\n      <td>5.828417e+06</td>\n      <td>0.0</td>\n      <td>0.0</td>\n      <td>0.0</td>\n      <td>0.0</td>\n      <td>3134.0</td>\n      <td>0.0</td>\n      <td>0.000000</td>\n      <td>0.000000</td>\n      <td>0.000000</td>\n      <td>0.0</td>\n      <td>9842.44395</td>\n      <td>0.000000</td>\n    </tr>\n    <tr>\n      <th>3</th>\n      <td>100048001</td>\n      <td>False</td>\n      <td>ride</td>\n      <td>4.625550e+06</td>\n      <td>5.824198e+06</td>\n      <td>1440.0</td>\n      <td>0.0</td>\n      <td>1554.0</td>\n      <td>0.0</td>\n      <td>0.0</td>\n      <td>0.0</td>\n      <td>1521.787790</td>\n      <td>0.000000</td>\n      <td>21164.108496</td>\n      <td>0.0</td>\n      <td>0.00000</td>\n      <td>0.000000</td>\n    </tr>\n    <tr>\n      <th>4</th>\n      <td>100117301</td>\n      <td>False</td>\n      <td>car</td>\n      <td>4.627250e+06</td>\n      <td>5.827690e+06</td>\n      <td>3586.0</td>\n      <td>12150.0</td>\n      <td>0.0</td>\n      <td>0.0</td>\n      <td>0.0</td>\n      <td>0.0</td>\n      <td>3793.147334</td>\n      <td>185468.676299</td>\n      <td>0.000000</td>\n      <td>0.0</td>\n      <td>0.00000</td>\n      <td>0.000000</td>\n    </tr>\n    <tr>\n      <th>...</th>\n      <td>...</td>\n      <td>...</td>\n      <td>...</td>\n      <td>...</td>\n      <td>...</td>\n      <td>...</td>\n      <td>...</td>\n      <td>...</td>\n      <td>...</td>\n      <td>...</td>\n      <td>...</td>\n      <td>...</td>\n      <td>...</td>\n      <td>...</td>\n      <td>...</td>\n      <td>...</td>\n      <td>...</td>\n    </tr>\n    <tr>\n      <th>49300</th>\n      <td>freight_952_13245-berlin</td>\n      <td>False</td>\n      <td>freight</td>\n      <td>4.574263e+06</td>\n      <td>5.822580e+06</td>\n      <td>49.0</td>\n      <td>0.0</td>\n      <td>0.0</td>\n      <td>0.0</td>\n      <td>0.0</td>\n      <td>5302.0</td>\n      <td>52.342074</td>\n      <td>0.000000</td>\n      <td>0.000000</td>\n      <td>0.0</td>\n      <td>0.00000</td>\n      <td>39677.113976</td>\n    </tr>\n    <tr>\n      <th>49301</th>\n      <td>freight_965_13245-berlin</td>\n      <td>False</td>\n      <td>freight</td>\n      <td>4.574263e+06</td>\n      <td>5.822580e+06</td>\n      <td>41.0</td>\n      <td>0.0</td>\n      <td>0.0</td>\n      <td>0.0</td>\n      <td>0.0</td>\n      <td>4017.0</td>\n      <td>44.240611</td>\n      <td>0.000000</td>\n      <td>0.000000</td>\n      <td>0.0</td>\n      <td>0.00000</td>\n      <td>26866.064931</td>\n    </tr>\n    <tr>\n      <th>49302</th>\n      <td>freight_994_13245-berlin</td>\n      <td>False</td>\n      <td>freight</td>\n      <td>4.574263e+06</td>\n      <td>5.822580e+06</td>\n      <td>71.0</td>\n      <td>0.0</td>\n      <td>0.0</td>\n      <td>0.0</td>\n      <td>0.0</td>\n      <td>3465.0</td>\n      <td>75.045153</td>\n      <td>0.000000</td>\n      <td>0.000000</td>\n      <td>0.0</td>\n      <td>0.00000</td>\n      <td>24011.041982</td>\n    </tr>\n    <tr>\n      <th>49303</th>\n      <td>freight_996_87464-berlin</td>\n      <td>False</td>\n      <td>freight</td>\n      <td>4.603503e+06</td>\n      <td>5.808240e+06</td>\n      <td>29.0</td>\n      <td>0.0</td>\n      <td>0.0</td>\n      <td>0.0</td>\n      <td>0.0</td>\n      <td>2818.0</td>\n      <td>30.984966</td>\n      <td>0.000000</td>\n      <td>0.000000</td>\n      <td>0.0</td>\n      <td>0.00000</td>\n      <td>40353.625051</td>\n    </tr>\n    <tr>\n      <th>49304</th>\n      <td>freight_9_144245-berlin</td>\n      <td>False</td>\n      <td>freight</td>\n      <td>4.574147e+06</td>\n      <td>5.809461e+06</td>\n      <td>28.0</td>\n      <td>0.0</td>\n      <td>0.0</td>\n      <td>0.0</td>\n      <td>0.0</td>\n      <td>4058.0</td>\n      <td>29.882341</td>\n      <td>0.000000</td>\n      <td>0.000000</td>\n      <td>0.0</td>\n      <td>0.00000</td>\n      <td>40837.075402</td>\n    </tr>\n  </tbody>\n</table>\n<p>49305 rows × 17 columns</p>\n</div>"
     },
     "execution_count": 34,
     "metadata": {},
     "output_type": "execute_result"
    }
   ],
   "source": [
    "carless_data"
   ],
   "metadata": {
    "collapsed": false,
    "pycharm": {
     "name": "#%%\n"
    }
   }
  },
  {
   "cell_type": "code",
   "execution_count": 35,
   "outputs": [
    {
     "data": {
      "text/plain": "                       personId  isAffected primaryLegMode        coordX  \\\n0                     100012001       False           walk  4.628514e+06   \n1                      10001401       False            car  4.602137e+06   \n2                     100041201       False        bicycle  4.627570e+06   \n3                     100048001       False           ride  4.625550e+06   \n4                     100117301       False            car  4.627250e+06   \n...                         ...         ...            ...           ...   \n49300  freight_952_13245-berlin       False        freight  4.574263e+06   \n49301  freight_965_13245-berlin       False        freight  4.574263e+06   \n49302  freight_994_13245-berlin       False        freight  4.574263e+06   \n49303  freight_996_87464-berlin       False        freight  4.603503e+06   \n49304   freight_9_144245-berlin       False        freight  4.574147e+06   \n\n             coordY  travelTimeWalk  travelTimeCar  travelTimeRide  \\\n0      5.831327e+06          5144.0            0.0          1047.0   \n1      5.706357e+06          8800.0         9037.0             0.0   \n2      5.828417e+06             0.0            0.0             0.0   \n3      5.824198e+06          1440.0            0.0          1554.0   \n4      5.827690e+06          3586.0        12591.0             0.0   \n...             ...             ...            ...             ...   \n49300  5.822580e+06            49.0            0.0             0.0   \n49301  5.822580e+06            41.0            0.0             0.0   \n49302  5.822580e+06            71.0            0.0             0.0   \n49303  5.808240e+06            29.0            0.0             0.0   \n49304  5.809461e+06            28.0            0.0             0.0   \n\n       travelTimePt  travelTimeBike  travelTimeFreight  travelDistanceWalk  \\\n0               0.0             0.0                0.0         5431.830593   \n1               0.0             0.0                0.0         9298.707408   \n2               0.0          3134.0                0.0            0.000000   \n3               0.0             0.0                0.0         1521.787790   \n4               0.0             0.0                0.0         3793.147334   \n...             ...             ...                ...                 ...   \n49300           0.0             0.0             5511.0           52.342074   \n49301           0.0             0.0             4072.0           44.240611   \n49302           0.0             0.0             3390.0           75.045153   \n49303           0.0             0.0             2738.0           30.984966   \n49304           0.0             0.0             4476.0           29.882341   \n\n       travelDistanceCar  travelDistanceRide  travelDistancePt  \\\n0               0.000000        19708.765187               0.0   \n1          115174.683489            0.000000               0.0   \n2               0.000000            0.000000               0.0   \n3               0.000000        21164.108496               0.0   \n4          184249.656582            0.000000               0.0   \n...                  ...                 ...               ...   \n49300           0.000000            0.000000               0.0   \n49301           0.000000            0.000000               0.0   \n49302           0.000000            0.000000               0.0   \n49303           0.000000            0.000000               0.0   \n49304           0.000000            0.000000               0.0   \n\n       travelDistanceBike  travelDistanceFreight  \n0                 0.00000               0.000000  \n1                 0.00000               0.000000  \n2              9842.44395               0.000000  \n3                 0.00000               0.000000  \n4                 0.00000               0.000000  \n...                   ...                    ...  \n49300             0.00000           39615.589578  \n49301             0.00000           26849.308114  \n49302             0.00000           23914.657825  \n49303             0.00000           38712.881622  \n49304             0.00000           40959.802991  \n\n[49305 rows x 17 columns]",
      "text/html": "<div>\n<style scoped>\n    .dataframe tbody tr th:only-of-type {\n        vertical-align: middle;\n    }\n\n    .dataframe tbody tr th {\n        vertical-align: top;\n    }\n\n    .dataframe thead th {\n        text-align: right;\n    }\n</style>\n<table border=\"1\" class=\"dataframe\">\n  <thead>\n    <tr style=\"text-align: right;\">\n      <th></th>\n      <th>personId</th>\n      <th>isAffected</th>\n      <th>primaryLegMode</th>\n      <th>coordX</th>\n      <th>coordY</th>\n      <th>travelTimeWalk</th>\n      <th>travelTimeCar</th>\n      <th>travelTimeRide</th>\n      <th>travelTimePt</th>\n      <th>travelTimeBike</th>\n      <th>travelTimeFreight</th>\n      <th>travelDistanceWalk</th>\n      <th>travelDistanceCar</th>\n      <th>travelDistanceRide</th>\n      <th>travelDistancePt</th>\n      <th>travelDistanceBike</th>\n      <th>travelDistanceFreight</th>\n    </tr>\n  </thead>\n  <tbody>\n    <tr>\n      <th>0</th>\n      <td>100012001</td>\n      <td>False</td>\n      <td>walk</td>\n      <td>4.628514e+06</td>\n      <td>5.831327e+06</td>\n      <td>5144.0</td>\n      <td>0.0</td>\n      <td>1047.0</td>\n      <td>0.0</td>\n      <td>0.0</td>\n      <td>0.0</td>\n      <td>5431.830593</td>\n      <td>0.000000</td>\n      <td>19708.765187</td>\n      <td>0.0</td>\n      <td>0.00000</td>\n      <td>0.000000</td>\n    </tr>\n    <tr>\n      <th>1</th>\n      <td>10001401</td>\n      <td>False</td>\n      <td>car</td>\n      <td>4.602137e+06</td>\n      <td>5.706357e+06</td>\n      <td>8800.0</td>\n      <td>9037.0</td>\n      <td>0.0</td>\n      <td>0.0</td>\n      <td>0.0</td>\n      <td>0.0</td>\n      <td>9298.707408</td>\n      <td>115174.683489</td>\n      <td>0.000000</td>\n      <td>0.0</td>\n      <td>0.00000</td>\n      <td>0.000000</td>\n    </tr>\n    <tr>\n      <th>2</th>\n      <td>100041201</td>\n      <td>False</td>\n      <td>bicycle</td>\n      <td>4.627570e+06</td>\n      <td>5.828417e+06</td>\n      <td>0.0</td>\n      <td>0.0</td>\n      <td>0.0</td>\n      <td>0.0</td>\n      <td>3134.0</td>\n      <td>0.0</td>\n      <td>0.000000</td>\n      <td>0.000000</td>\n      <td>0.000000</td>\n      <td>0.0</td>\n      <td>9842.44395</td>\n      <td>0.000000</td>\n    </tr>\n    <tr>\n      <th>3</th>\n      <td>100048001</td>\n      <td>False</td>\n      <td>ride</td>\n      <td>4.625550e+06</td>\n      <td>5.824198e+06</td>\n      <td>1440.0</td>\n      <td>0.0</td>\n      <td>1554.0</td>\n      <td>0.0</td>\n      <td>0.0</td>\n      <td>0.0</td>\n      <td>1521.787790</td>\n      <td>0.000000</td>\n      <td>21164.108496</td>\n      <td>0.0</td>\n      <td>0.00000</td>\n      <td>0.000000</td>\n    </tr>\n    <tr>\n      <th>4</th>\n      <td>100117301</td>\n      <td>False</td>\n      <td>car</td>\n      <td>4.627250e+06</td>\n      <td>5.827690e+06</td>\n      <td>3586.0</td>\n      <td>12591.0</td>\n      <td>0.0</td>\n      <td>0.0</td>\n      <td>0.0</td>\n      <td>0.0</td>\n      <td>3793.147334</td>\n      <td>184249.656582</td>\n      <td>0.000000</td>\n      <td>0.0</td>\n      <td>0.00000</td>\n      <td>0.000000</td>\n    </tr>\n    <tr>\n      <th>...</th>\n      <td>...</td>\n      <td>...</td>\n      <td>...</td>\n      <td>...</td>\n      <td>...</td>\n      <td>...</td>\n      <td>...</td>\n      <td>...</td>\n      <td>...</td>\n      <td>...</td>\n      <td>...</td>\n      <td>...</td>\n      <td>...</td>\n      <td>...</td>\n      <td>...</td>\n      <td>...</td>\n      <td>...</td>\n    </tr>\n    <tr>\n      <th>49300</th>\n      <td>freight_952_13245-berlin</td>\n      <td>False</td>\n      <td>freight</td>\n      <td>4.574263e+06</td>\n      <td>5.822580e+06</td>\n      <td>49.0</td>\n      <td>0.0</td>\n      <td>0.0</td>\n      <td>0.0</td>\n      <td>0.0</td>\n      <td>5511.0</td>\n      <td>52.342074</td>\n      <td>0.000000</td>\n      <td>0.000000</td>\n      <td>0.0</td>\n      <td>0.00000</td>\n      <td>39615.589578</td>\n    </tr>\n    <tr>\n      <th>49301</th>\n      <td>freight_965_13245-berlin</td>\n      <td>False</td>\n      <td>freight</td>\n      <td>4.574263e+06</td>\n      <td>5.822580e+06</td>\n      <td>41.0</td>\n      <td>0.0</td>\n      <td>0.0</td>\n      <td>0.0</td>\n      <td>0.0</td>\n      <td>4072.0</td>\n      <td>44.240611</td>\n      <td>0.000000</td>\n      <td>0.000000</td>\n      <td>0.0</td>\n      <td>0.00000</td>\n      <td>26849.308114</td>\n    </tr>\n    <tr>\n      <th>49302</th>\n      <td>freight_994_13245-berlin</td>\n      <td>False</td>\n      <td>freight</td>\n      <td>4.574263e+06</td>\n      <td>5.822580e+06</td>\n      <td>71.0</td>\n      <td>0.0</td>\n      <td>0.0</td>\n      <td>0.0</td>\n      <td>0.0</td>\n      <td>3390.0</td>\n      <td>75.045153</td>\n      <td>0.000000</td>\n      <td>0.000000</td>\n      <td>0.0</td>\n      <td>0.00000</td>\n      <td>23914.657825</td>\n    </tr>\n    <tr>\n      <th>49303</th>\n      <td>freight_996_87464-berlin</td>\n      <td>False</td>\n      <td>freight</td>\n      <td>4.603503e+06</td>\n      <td>5.808240e+06</td>\n      <td>29.0</td>\n      <td>0.0</td>\n      <td>0.0</td>\n      <td>0.0</td>\n      <td>0.0</td>\n      <td>2738.0</td>\n      <td>30.984966</td>\n      <td>0.000000</td>\n      <td>0.000000</td>\n      <td>0.0</td>\n      <td>0.00000</td>\n      <td>38712.881622</td>\n    </tr>\n    <tr>\n      <th>49304</th>\n      <td>freight_9_144245-berlin</td>\n      <td>False</td>\n      <td>freight</td>\n      <td>4.574147e+06</td>\n      <td>5.809461e+06</td>\n      <td>28.0</td>\n      <td>0.0</td>\n      <td>0.0</td>\n      <td>0.0</td>\n      <td>0.0</td>\n      <td>4476.0</td>\n      <td>29.882341</td>\n      <td>0.000000</td>\n      <td>0.000000</td>\n      <td>0.0</td>\n      <td>0.00000</td>\n      <td>40959.802991</td>\n    </tr>\n  </tbody>\n</table>\n<p>49305 rows × 17 columns</p>\n</div>"
     },
     "execution_count": 35,
     "metadata": {},
     "output_type": "execute_result"
    }
   ],
   "source": [
    "normal_data"
   ],
   "metadata": {
    "collapsed": false,
    "pycharm": {
     "name": "#%%\n"
    }
   }
  },
  {
   "cell_type": "code",
   "execution_count": 36,
   "outputs": [
    {
     "name": "stdout",
     "output_type": "stream",
     "text": [
      "A total of 15017 out of 49305 persons (30.457357265997366%) was affected by making the area inside the S-Bahn-Ring a no-car-zone.\n"
     ]
    }
   ],
   "source": [
    "num_affected = carless_data[carless_data[\"isAffected\"]].shape[0]\n",
    "total_persons = carless_data.shape[0]\n",
    "print(\n",
    "    f\"A total of {num_affected} out of {total_persons} persons ({num_affected / total_persons * 100.0}%) was affected by making the area inside the S-Bahn-Ring a no-car-zone.\")"
   ],
   "metadata": {
    "collapsed": false,
    "pycharm": {
     "name": "#%%\n"
    }
   }
  },
  {
   "cell_type": "code",
   "execution_count": 37,
   "outputs": [
    {
     "data": {
      "text/plain": "travelDistanceWalk     2550.118565\ntravelDistanceCar     10726.663081\ntravelDistanceRide     3826.339373\ntravelDistancePt      18978.688331\ntravelDistanceBike     1591.967926\ndtype: float64"
     },
     "execution_count": 37,
     "metadata": {},
     "output_type": "execute_result"
    }
   ],
   "source": [
    "meter_travelled_normal_per_person_affected_per_legmode = normal_data[carless_data[\"isAffected\"]][[\n",
    "    \"travelDistanceWalk\", \"travelDistanceCar\", \"travelDistanceRide\", \"travelDistancePt\",\n",
    "    \"travelDistanceBike\"]]\n",
    "meter_travelled_normal_mean = meter_travelled_normal_per_person_affected_per_legmode.mean()\n",
    "meter_travelled_normal_mean"
   ],
   "metadata": {
    "collapsed": false,
    "pycharm": {
     "name": "#%%\n"
    }
   }
  },
  {
   "cell_type": "code",
   "execution_count": 38,
   "outputs": [
    {
     "data": {
      "text/plain": "travelDistanceWalk     3398.080824\ntravelDistanceCar       933.640482\ntravelDistanceRide     3808.733251\ntravelDistancePt      25444.478437\ntravelDistanceBike     4188.531832\ndtype: float64"
     },
     "execution_count": 38,
     "metadata": {},
     "output_type": "execute_result"
    }
   ],
   "source": [
    "meter_travelled_carless_per_person_affected_per_legmode = carless_data[carless_data[\"isAffected\"]][[\n",
    "    \"travelDistanceWalk\", \"travelDistanceCar\", \"travelDistanceRide\", \"travelDistancePt\",\n",
    "    \"travelDistanceBike\"]]\n",
    "meter_travelled_carless_mean = meter_travelled_carless_per_person_affected_per_legmode.mean()\n",
    "meter_travelled_carless_mean"
   ],
   "metadata": {
    "collapsed": false,
    "pycharm": {
     "name": "#%%\n"
    }
   }
  },
  {
   "cell_type": "code",
   "execution_count": 45,
   "outputs": [
    {
     "data": {
      "text/plain": "<AxesSubplot:>"
     },
     "execution_count": 45,
     "metadata": {},
     "output_type": "execute_result"
    },
    {
     "data": {
      "text/plain": "<Figure size 432x288 with 1 Axes>",
      "image/png": "[encoded data removed]"
     },
     "metadata": {
      "needs_background": "light"
     },
     "output_type": "display_data"
    }
   ],
   "source": [
    "meter_travelled_combined_for_plot = pd.DataFrame(\n",
    "    {\"normal\": meter_travelled_normal_mean, \"carless\": meter_travelled_carless_mean})\n",
    "meter_travelled_combined_for_plot.plot.bar()\n"
   ],
   "metadata": {
    "collapsed": false,
    "pycharm": {
     "name": "#%%\n"
    }
   }
  },
  {
   "cell_type": "code",
   "execution_count": 46,
   "outputs": [
    {
     "data": {
      "text/plain": "travelTimeWalk    2414.757741\ntravelTimeCar     1200.423120\ntravelTimeRide     432.965106\ntravelTimePt      2674.649930\ntravelTimeBike     506.984684\ndtype: float64"
     },
     "execution_count": 46,
     "metadata": {},
     "output_type": "execute_result"
    }
   ],
   "source": [
    "time_spent_normal_per_person_affected_per_legmode = normal_data[carless_data[\"isAffected\"]][[\n",
    "    \"travelTimeWalk\", \"travelTimeCar\", \"travelTimeRide\", \"travelTimePt\",\n",
    "    \"travelTimeBike\"]]\n",
    "time_spent_normal_mean = time_spent_normal_per_person_affected_per_legmode.mean()\n",
    "time_spent_normal_mean"
   ],
   "metadata": {
    "collapsed": false,
    "pycharm": {
     "name": "#%%\n"
    }
   }
  },
  {
   "cell_type": "code",
   "execution_count": 47,
   "outputs": [
    {
     "data": {
      "text/plain": "travelTimeWalk    3219.128787\ntravelTimeCar      114.213425\ntravelTimeRide     420.509622\ntravelTimePt      3699.887195\ntravelTimeBike    1334.068123\ndtype: float64"
     },
     "execution_count": 47,
     "metadata": {},
     "output_type": "execute_result"
    }
   ],
   "source": [
    "time_spent_carless_per_person_affected_per_legmode = carless_data[carless_data[\"isAffected\"]][[\n",
    "    \"travelTimeWalk\", \"travelTimeCar\", \"travelTimeRide\", \"travelTimePt\",\n",
    "    \"travelTimeBike\"]]\n",
    "time_spent_carless_mean = time_spent_carless_per_person_affected_per_legmode.mean()\n",
    "time_spent_carless_mean\n"
   ],
   "metadata": {
    "collapsed": false,
    "pycharm": {
     "name": "#%%\n"
    }
   }
  },
  {
   "cell_type": "code",
   "execution_count": 48,
   "outputs": [
    {
     "data": {
      "text/plain": "<AxesSubplot:>"
     },
     "execution_count": 48,
     "metadata": {},
     "output_type": "execute_result"
    },
    {
     "data": {
      "text/plain": "<Figure size 432x288 with 1 Axes>",
      "image/png": "[encoded data removed]"
     },
     "metadata": {
      "needs_background": "light"
     },
     "output_type": "display_data"
    }
   ],
   "source": [
    "time_spent_combined_for_plot = pd.DataFrame(\n",
    "    {\"normal\": time_spent_normal_mean, \"carless\": time_spent_carless_mean})\n",
    "time_spent_combined_for_plot.plot.bar()\n"
   ],
   "metadata": {
    "collapsed": false,
    "pycharm": {
     "name": "#%%\n"
    }
   }
  }
 ],
 "metadata": {
  "kernelspec": {
   "display_name": "Python 3",
   "language": "python",
   "name": "python3"
  },
  "language_info": {
   "codemirror_mode": {
    "name": "ipython",
    "version": 2
   },
   "file_extension": ".py",
   "mimetype": "text/x-python",
   "name": "python",
   "nbconvert_exporter": "python",
   "pygments_lexer": "ipython2",
   "version": "2.7.6"
  }
 },
 "nbformat": 4,
 "nbformat_minor": 0
}